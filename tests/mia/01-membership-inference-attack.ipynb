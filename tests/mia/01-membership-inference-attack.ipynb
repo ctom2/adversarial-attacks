{
  "nbformat": 4,
  "nbformat_minor": 0,
  "metadata": {
    "colab": {
      "name": "01-MIA.ipynb",
      "provenance": [],
      "collapsed_sections": [],
      "machine_shape": "hm"
    },
    "kernelspec": {
      "name": "python3",
      "display_name": "Python 3"
    },
    "language_info": {
      "name": "python"
    },
    "accelerator": "GPU",
    "widgets": {
      "application/vnd.jupyter.widget-state+json": {
        "4d51a56c69c64affa934866a33dd3bb5": {
          "model_module": "@jupyter-widgets/controls",
          "model_name": "HBoxModel",
          "model_module_version": "1.5.0",
          "state": {
            "_dom_classes": [],
            "_model_module": "@jupyter-widgets/controls",
            "_model_module_version": "1.5.0",
            "_model_name": "HBoxModel",
            "_view_count": null,
            "_view_module": "@jupyter-widgets/controls",
            "_view_module_version": "1.5.0",
            "_view_name": "HBoxView",
            "box_style": "",
            "children": [
              "IPY_MODEL_f124fc1698744e5f80bf522a7d7c1e00",
              "IPY_MODEL_03a5025088374e3f88e9969ee488af15",
              "IPY_MODEL_2be2b76cde7448c089137e19a2bab15f"
            ],
            "layout": "IPY_MODEL_767b53fb06174c1ead9888b920a2f62b"
          }
        },
        "f124fc1698744e5f80bf522a7d7c1e00": {
          "model_module": "@jupyter-widgets/controls",
          "model_name": "HTMLModel",
          "model_module_version": "1.5.0",
          "state": {
            "_dom_classes": [],
            "_model_module": "@jupyter-widgets/controls",
            "_model_module_version": "1.5.0",
            "_model_name": "HTMLModel",
            "_view_count": null,
            "_view_module": "@jupyter-widgets/controls",
            "_view_module_version": "1.5.0",
            "_view_name": "HTMLView",
            "description": "",
            "description_tooltip": null,
            "layout": "IPY_MODEL_7c7865d0fc114c83bbf8688c5be66138",
            "placeholder": "​",
            "style": "IPY_MODEL_eff0e4baac284730a3f87096e3a82501",
            "value": "100%"
          }
        },
        "03a5025088374e3f88e9969ee488af15": {
          "model_module": "@jupyter-widgets/controls",
          "model_name": "FloatProgressModel",
          "model_module_version": "1.5.0",
          "state": {
            "_dom_classes": [],
            "_model_module": "@jupyter-widgets/controls",
            "_model_module_version": "1.5.0",
            "_model_name": "FloatProgressModel",
            "_view_count": null,
            "_view_module": "@jupyter-widgets/controls",
            "_view_module_version": "1.5.0",
            "_view_name": "ProgressView",
            "bar_style": "success",
            "description": "",
            "description_tooltip": null,
            "layout": "IPY_MODEL_7e651f66320443998bf35f10b3cdfa67",
            "max": 10,
            "min": 0,
            "orientation": "horizontal",
            "style": "IPY_MODEL_6660acb226574886b15dc2f261e70c36",
            "value": 10
          }
        },
        "2be2b76cde7448c089137e19a2bab15f": {
          "model_module": "@jupyter-widgets/controls",
          "model_name": "HTMLModel",
          "model_module_version": "1.5.0",
          "state": {
            "_dom_classes": [],
            "_model_module": "@jupyter-widgets/controls",
            "_model_module_version": "1.5.0",
            "_model_name": "HTMLModel",
            "_view_count": null,
            "_view_module": "@jupyter-widgets/controls",
            "_view_module_version": "1.5.0",
            "_view_name": "HTMLView",
            "description": "",
            "description_tooltip": null,
            "layout": "IPY_MODEL_83948da7d8b34c9a91a1edf7cf0b43b8",
            "placeholder": "​",
            "style": "IPY_MODEL_dd50976140234539bfe5adfdf881553d",
            "value": " 10/10 [01:26&lt;00:00,  8.64s/it]"
          }
        },
        "767b53fb06174c1ead9888b920a2f62b": {
          "model_module": "@jupyter-widgets/base",
          "model_name": "LayoutModel",
          "model_module_version": "1.2.0",
          "state": {
            "_model_module": "@jupyter-widgets/base",
            "_model_module_version": "1.2.0",
            "_model_name": "LayoutModel",
            "_view_count": null,
            "_view_module": "@jupyter-widgets/base",
            "_view_module_version": "1.2.0",
            "_view_name": "LayoutView",
            "align_content": null,
            "align_items": null,
            "align_self": null,
            "border": null,
            "bottom": null,
            "display": null,
            "flex": null,
            "flex_flow": null,
            "grid_area": null,
            "grid_auto_columns": null,
            "grid_auto_flow": null,
            "grid_auto_rows": null,
            "grid_column": null,
            "grid_gap": null,
            "grid_row": null,
            "grid_template_areas": null,
            "grid_template_columns": null,
            "grid_template_rows": null,
            "height": null,
            "justify_content": null,
            "justify_items": null,
            "left": null,
            "margin": null,
            "max_height": null,
            "max_width": null,
            "min_height": null,
            "min_width": null,
            "object_fit": null,
            "object_position": null,
            "order": null,
            "overflow": null,
            "overflow_x": null,
            "overflow_y": null,
            "padding": null,
            "right": null,
            "top": null,
            "visibility": null,
            "width": null
          }
        },
        "7c7865d0fc114c83bbf8688c5be66138": {
          "model_module": "@jupyter-widgets/base",
          "model_name": "LayoutModel",
          "model_module_version": "1.2.0",
          "state": {
            "_model_module": "@jupyter-widgets/base",
            "_model_module_version": "1.2.0",
            "_model_name": "LayoutModel",
            "_view_count": null,
            "_view_module": "@jupyter-widgets/base",
            "_view_module_version": "1.2.0",
            "_view_name": "LayoutView",
            "align_content": null,
            "align_items": null,
            "align_self": null,
            "border": null,
            "bottom": null,
            "display": null,
            "flex": null,
            "flex_flow": null,
            "grid_area": null,
            "grid_auto_columns": null,
            "grid_auto_flow": null,
            "grid_auto_rows": null,
            "grid_column": null,
            "grid_gap": null,
            "grid_row": null,
            "grid_template_areas": null,
            "grid_template_columns": null,
            "grid_template_rows": null,
            "height": null,
            "justify_content": null,
            "justify_items": null,
            "left": null,
            "margin": null,
            "max_height": null,
            "max_width": null,
            "min_height": null,
            "min_width": null,
            "object_fit": null,
            "object_position": null,
            "order": null,
            "overflow": null,
            "overflow_x": null,
            "overflow_y": null,
            "padding": null,
            "right": null,
            "top": null,
            "visibility": null,
            "width": null
          }
        },
        "eff0e4baac284730a3f87096e3a82501": {
          "model_module": "@jupyter-widgets/controls",
          "model_name": "DescriptionStyleModel",
          "model_module_version": "1.5.0",
          "state": {
            "_model_module": "@jupyter-widgets/controls",
            "_model_module_version": "1.5.0",
            "_model_name": "DescriptionStyleModel",
            "_view_count": null,
            "_view_module": "@jupyter-widgets/base",
            "_view_module_version": "1.2.0",
            "_view_name": "StyleView",
            "description_width": ""
          }
        },
        "7e651f66320443998bf35f10b3cdfa67": {
          "model_module": "@jupyter-widgets/base",
          "model_name": "LayoutModel",
          "model_module_version": "1.2.0",
          "state": {
            "_model_module": "@jupyter-widgets/base",
            "_model_module_version": "1.2.0",
            "_model_name": "LayoutModel",
            "_view_count": null,
            "_view_module": "@jupyter-widgets/base",
            "_view_module_version": "1.2.0",
            "_view_name": "LayoutView",
            "align_content": null,
            "align_items": null,
            "align_self": null,
            "border": null,
            "bottom": null,
            "display": null,
            "flex": null,
            "flex_flow": null,
            "grid_area": null,
            "grid_auto_columns": null,
            "grid_auto_flow": null,
            "grid_auto_rows": null,
            "grid_column": null,
            "grid_gap": null,
            "grid_row": null,
            "grid_template_areas": null,
            "grid_template_columns": null,
            "grid_template_rows": null,
            "height": null,
            "justify_content": null,
            "justify_items": null,
            "left": null,
            "margin": null,
            "max_height": null,
            "max_width": null,
            "min_height": null,
            "min_width": null,
            "object_fit": null,
            "object_position": null,
            "order": null,
            "overflow": null,
            "overflow_x": null,
            "overflow_y": null,
            "padding": null,
            "right": null,
            "top": null,
            "visibility": null,
            "width": null
          }
        },
        "6660acb226574886b15dc2f261e70c36": {
          "model_module": "@jupyter-widgets/controls",
          "model_name": "ProgressStyleModel",
          "model_module_version": "1.5.0",
          "state": {
            "_model_module": "@jupyter-widgets/controls",
            "_model_module_version": "1.5.0",
            "_model_name": "ProgressStyleModel",
            "_view_count": null,
            "_view_module": "@jupyter-widgets/base",
            "_view_module_version": "1.2.0",
            "_view_name": "StyleView",
            "bar_color": null,
            "description_width": ""
          }
        },
        "83948da7d8b34c9a91a1edf7cf0b43b8": {
          "model_module": "@jupyter-widgets/base",
          "model_name": "LayoutModel",
          "model_module_version": "1.2.0",
          "state": {
            "_model_module": "@jupyter-widgets/base",
            "_model_module_version": "1.2.0",
            "_model_name": "LayoutModel",
            "_view_count": null,
            "_view_module": "@jupyter-widgets/base",
            "_view_module_version": "1.2.0",
            "_view_name": "LayoutView",
            "align_content": null,
            "align_items": null,
            "align_self": null,
            "border": null,
            "bottom": null,
            "display": null,
            "flex": null,
            "flex_flow": null,
            "grid_area": null,
            "grid_auto_columns": null,
            "grid_auto_flow": null,
            "grid_auto_rows": null,
            "grid_column": null,
            "grid_gap": null,
            "grid_row": null,
            "grid_template_areas": null,
            "grid_template_columns": null,
            "grid_template_rows": null,
            "height": null,
            "justify_content": null,
            "justify_items": null,
            "left": null,
            "margin": null,
            "max_height": null,
            "max_width": null,
            "min_height": null,
            "min_width": null,
            "object_fit": null,
            "object_position": null,
            "order": null,
            "overflow": null,
            "overflow_x": null,
            "overflow_y": null,
            "padding": null,
            "right": null,
            "top": null,
            "visibility": null,
            "width": null
          }
        },
        "dd50976140234539bfe5adfdf881553d": {
          "model_module": "@jupyter-widgets/controls",
          "model_name": "DescriptionStyleModel",
          "model_module_version": "1.5.0",
          "state": {
            "_model_module": "@jupyter-widgets/controls",
            "_model_module_version": "1.5.0",
            "_model_name": "DescriptionStyleModel",
            "_view_count": null,
            "_view_module": "@jupyter-widgets/base",
            "_view_module_version": "1.2.0",
            "_view_name": "StyleView",
            "description_width": ""
          }
        },
        "67c52073e1184767b9ec1526f56f476b": {
          "model_module": "@jupyter-widgets/controls",
          "model_name": "HBoxModel",
          "model_module_version": "1.5.0",
          "state": {
            "_dom_classes": [],
            "_model_module": "@jupyter-widgets/controls",
            "_model_module_version": "1.5.0",
            "_model_name": "HBoxModel",
            "_view_count": null,
            "_view_module": "@jupyter-widgets/controls",
            "_view_module_version": "1.5.0",
            "_view_name": "HBoxView",
            "box_style": "",
            "children": [
              "IPY_MODEL_91d1872ae24c49b8a5da557a008e5856",
              "IPY_MODEL_91d699b893a8403e80d336ce7857325d",
              "IPY_MODEL_f61d5e8bca5341ae9ae5dbc0a2d92d16"
            ],
            "layout": "IPY_MODEL_83c42af0ce374ec9aaa02b53bee7a9cf"
          }
        },
        "91d1872ae24c49b8a5da557a008e5856": {
          "model_module": "@jupyter-widgets/controls",
          "model_name": "HTMLModel",
          "model_module_version": "1.5.0",
          "state": {
            "_dom_classes": [],
            "_model_module": "@jupyter-widgets/controls",
            "_model_module_version": "1.5.0",
            "_model_name": "HTMLModel",
            "_view_count": null,
            "_view_module": "@jupyter-widgets/controls",
            "_view_module_version": "1.5.0",
            "_view_name": "HTMLView",
            "description": "",
            "description_tooltip": null,
            "layout": "IPY_MODEL_20eff48b33b24656976d421776c7bdde",
            "placeholder": "​",
            "style": "IPY_MODEL_d4adf8c9e05c495883b648b910743c38",
            "value": "100%"
          }
        },
        "91d699b893a8403e80d336ce7857325d": {
          "model_module": "@jupyter-widgets/controls",
          "model_name": "FloatProgressModel",
          "model_module_version": "1.5.0",
          "state": {
            "_dom_classes": [],
            "_model_module": "@jupyter-widgets/controls",
            "_model_module_version": "1.5.0",
            "_model_name": "FloatProgressModel",
            "_view_count": null,
            "_view_module": "@jupyter-widgets/controls",
            "_view_module_version": "1.5.0",
            "_view_name": "ProgressView",
            "bar_style": "success",
            "description": "",
            "description_tooltip": null,
            "layout": "IPY_MODEL_1fcde52fb14b462ba7f4c5614cc5d501",
            "max": 10,
            "min": 0,
            "orientation": "horizontal",
            "style": "IPY_MODEL_1a4cdcdca72a40e1b88e237dc74b9be2",
            "value": 10
          }
        },
        "f61d5e8bca5341ae9ae5dbc0a2d92d16": {
          "model_module": "@jupyter-widgets/controls",
          "model_name": "HTMLModel",
          "model_module_version": "1.5.0",
          "state": {
            "_dom_classes": [],
            "_model_module": "@jupyter-widgets/controls",
            "_model_module_version": "1.5.0",
            "_model_name": "HTMLModel",
            "_view_count": null,
            "_view_module": "@jupyter-widgets/controls",
            "_view_module_version": "1.5.0",
            "_view_name": "HTMLView",
            "description": "",
            "description_tooltip": null,
            "layout": "IPY_MODEL_4321c03f6e7c485586f918c15eaa40a0",
            "placeholder": "​",
            "style": "IPY_MODEL_eaf9cfa614ba4d7abfd6ffbdc67a4e9d",
            "value": " 10/10 [00:45&lt;00:00,  4.58s/it]"
          }
        },
        "83c42af0ce374ec9aaa02b53bee7a9cf": {
          "model_module": "@jupyter-widgets/base",
          "model_name": "LayoutModel",
          "model_module_version": "1.2.0",
          "state": {
            "_model_module": "@jupyter-widgets/base",
            "_model_module_version": "1.2.0",
            "_model_name": "LayoutModel",
            "_view_count": null,
            "_view_module": "@jupyter-widgets/base",
            "_view_module_version": "1.2.0",
            "_view_name": "LayoutView",
            "align_content": null,
            "align_items": null,
            "align_self": null,
            "border": null,
            "bottom": null,
            "display": null,
            "flex": null,
            "flex_flow": null,
            "grid_area": null,
            "grid_auto_columns": null,
            "grid_auto_flow": null,
            "grid_auto_rows": null,
            "grid_column": null,
            "grid_gap": null,
            "grid_row": null,
            "grid_template_areas": null,
            "grid_template_columns": null,
            "grid_template_rows": null,
            "height": null,
            "justify_content": null,
            "justify_items": null,
            "left": null,
            "margin": null,
            "max_height": null,
            "max_width": null,
            "min_height": null,
            "min_width": null,
            "object_fit": null,
            "object_position": null,
            "order": null,
            "overflow": null,
            "overflow_x": null,
            "overflow_y": null,
            "padding": null,
            "right": null,
            "top": null,
            "visibility": null,
            "width": null
          }
        },
        "20eff48b33b24656976d421776c7bdde": {
          "model_module": "@jupyter-widgets/base",
          "model_name": "LayoutModel",
          "model_module_version": "1.2.0",
          "state": {
            "_model_module": "@jupyter-widgets/base",
            "_model_module_version": "1.2.0",
            "_model_name": "LayoutModel",
            "_view_count": null,
            "_view_module": "@jupyter-widgets/base",
            "_view_module_version": "1.2.0",
            "_view_name": "LayoutView",
            "align_content": null,
            "align_items": null,
            "align_self": null,
            "border": null,
            "bottom": null,
            "display": null,
            "flex": null,
            "flex_flow": null,
            "grid_area": null,
            "grid_auto_columns": null,
            "grid_auto_flow": null,
            "grid_auto_rows": null,
            "grid_column": null,
            "grid_gap": null,
            "grid_row": null,
            "grid_template_areas": null,
            "grid_template_columns": null,
            "grid_template_rows": null,
            "height": null,
            "justify_content": null,
            "justify_items": null,
            "left": null,
            "margin": null,
            "max_height": null,
            "max_width": null,
            "min_height": null,
            "min_width": null,
            "object_fit": null,
            "object_position": null,
            "order": null,
            "overflow": null,
            "overflow_x": null,
            "overflow_y": null,
            "padding": null,
            "right": null,
            "top": null,
            "visibility": null,
            "width": null
          }
        },
        "d4adf8c9e05c495883b648b910743c38": {
          "model_module": "@jupyter-widgets/controls",
          "model_name": "DescriptionStyleModel",
          "model_module_version": "1.5.0",
          "state": {
            "_model_module": "@jupyter-widgets/controls",
            "_model_module_version": "1.5.0",
            "_model_name": "DescriptionStyleModel",
            "_view_count": null,
            "_view_module": "@jupyter-widgets/base",
            "_view_module_version": "1.2.0",
            "_view_name": "StyleView",
            "description_width": ""
          }
        },
        "1fcde52fb14b462ba7f4c5614cc5d501": {
          "model_module": "@jupyter-widgets/base",
          "model_name": "LayoutModel",
          "model_module_version": "1.2.0",
          "state": {
            "_model_module": "@jupyter-widgets/base",
            "_model_module_version": "1.2.0",
            "_model_name": "LayoutModel",
            "_view_count": null,
            "_view_module": "@jupyter-widgets/base",
            "_view_module_version": "1.2.0",
            "_view_name": "LayoutView",
            "align_content": null,
            "align_items": null,
            "align_self": null,
            "border": null,
            "bottom": null,
            "display": null,
            "flex": null,
            "flex_flow": null,
            "grid_area": null,
            "grid_auto_columns": null,
            "grid_auto_flow": null,
            "grid_auto_rows": null,
            "grid_column": null,
            "grid_gap": null,
            "grid_row": null,
            "grid_template_areas": null,
            "grid_template_columns": null,
            "grid_template_rows": null,
            "height": null,
            "justify_content": null,
            "justify_items": null,
            "left": null,
            "margin": null,
            "max_height": null,
            "max_width": null,
            "min_height": null,
            "min_width": null,
            "object_fit": null,
            "object_position": null,
            "order": null,
            "overflow": null,
            "overflow_x": null,
            "overflow_y": null,
            "padding": null,
            "right": null,
            "top": null,
            "visibility": null,
            "width": null
          }
        },
        "1a4cdcdca72a40e1b88e237dc74b9be2": {
          "model_module": "@jupyter-widgets/controls",
          "model_name": "ProgressStyleModel",
          "model_module_version": "1.5.0",
          "state": {
            "_model_module": "@jupyter-widgets/controls",
            "_model_module_version": "1.5.0",
            "_model_name": "ProgressStyleModel",
            "_view_count": null,
            "_view_module": "@jupyter-widgets/base",
            "_view_module_version": "1.2.0",
            "_view_name": "StyleView",
            "bar_color": null,
            "description_width": ""
          }
        },
        "4321c03f6e7c485586f918c15eaa40a0": {
          "model_module": "@jupyter-widgets/base",
          "model_name": "LayoutModel",
          "model_module_version": "1.2.0",
          "state": {
            "_model_module": "@jupyter-widgets/base",
            "_model_module_version": "1.2.0",
            "_model_name": "LayoutModel",
            "_view_count": null,
            "_view_module": "@jupyter-widgets/base",
            "_view_module_version": "1.2.0",
            "_view_name": "LayoutView",
            "align_content": null,
            "align_items": null,
            "align_self": null,
            "border": null,
            "bottom": null,
            "display": null,
            "flex": null,
            "flex_flow": null,
            "grid_area": null,
            "grid_auto_columns": null,
            "grid_auto_flow": null,
            "grid_auto_rows": null,
            "grid_column": null,
            "grid_gap": null,
            "grid_row": null,
            "grid_template_areas": null,
            "grid_template_columns": null,
            "grid_template_rows": null,
            "height": null,
            "justify_content": null,
            "justify_items": null,
            "left": null,
            "margin": null,
            "max_height": null,
            "max_width": null,
            "min_height": null,
            "min_width": null,
            "object_fit": null,
            "object_position": null,
            "order": null,
            "overflow": null,
            "overflow_x": null,
            "overflow_y": null,
            "padding": null,
            "right": null,
            "top": null,
            "visibility": null,
            "width": null
          }
        },
        "eaf9cfa614ba4d7abfd6ffbdc67a4e9d": {
          "model_module": "@jupyter-widgets/controls",
          "model_name": "DescriptionStyleModel",
          "model_module_version": "1.5.0",
          "state": {
            "_model_module": "@jupyter-widgets/controls",
            "_model_module_version": "1.5.0",
            "_model_name": "DescriptionStyleModel",
            "_view_count": null,
            "_view_module": "@jupyter-widgets/base",
            "_view_module_version": "1.2.0",
            "_view_name": "StyleView",
            "description_width": ""
          }
        },
        "105d9011a933438bbc5333213a91c1c0": {
          "model_module": "@jupyter-widgets/controls",
          "model_name": "HBoxModel",
          "model_module_version": "1.5.0",
          "state": {
            "_dom_classes": [],
            "_model_module": "@jupyter-widgets/controls",
            "_model_module_version": "1.5.0",
            "_model_name": "HBoxModel",
            "_view_count": null,
            "_view_module": "@jupyter-widgets/controls",
            "_view_module_version": "1.5.0",
            "_view_name": "HBoxView",
            "box_style": "",
            "children": [
              "IPY_MODEL_908f5a045f09418d88dfa29bbc767561",
              "IPY_MODEL_bc5eb1d7136e492ab083433d698d29c3",
              "IPY_MODEL_042c2f8bbdd04bd7a98d6d7fc356a772"
            ],
            "layout": "IPY_MODEL_65cce5c7c1b14b8ea06fe868b8725dfc"
          }
        },
        "908f5a045f09418d88dfa29bbc767561": {
          "model_module": "@jupyter-widgets/controls",
          "model_name": "HTMLModel",
          "model_module_version": "1.5.0",
          "state": {
            "_dom_classes": [],
            "_model_module": "@jupyter-widgets/controls",
            "_model_module_version": "1.5.0",
            "_model_name": "HTMLModel",
            "_view_count": null,
            "_view_module": "@jupyter-widgets/controls",
            "_view_module_version": "1.5.0",
            "_view_name": "HTMLView",
            "description": "",
            "description_tooltip": null,
            "layout": "IPY_MODEL_61d2de5af8874b1a9651aff8ded9e546",
            "placeholder": "​",
            "style": "IPY_MODEL_493c7c0a877844119f9d8778697a379b",
            "value": "100%"
          }
        },
        "bc5eb1d7136e492ab083433d698d29c3": {
          "model_module": "@jupyter-widgets/controls",
          "model_name": "FloatProgressModel",
          "model_module_version": "1.5.0",
          "state": {
            "_dom_classes": [],
            "_model_module": "@jupyter-widgets/controls",
            "_model_module_version": "1.5.0",
            "_model_name": "FloatProgressModel",
            "_view_count": null,
            "_view_module": "@jupyter-widgets/controls",
            "_view_module_version": "1.5.0",
            "_view_name": "ProgressView",
            "bar_style": "success",
            "description": "",
            "description_tooltip": null,
            "layout": "IPY_MODEL_66c48880012142c6ad753706dc1f95ad",
            "max": 100,
            "min": 0,
            "orientation": "horizontal",
            "style": "IPY_MODEL_463e9736ff1b4cbbaaebb89499592f90",
            "value": 100
          }
        },
        "042c2f8bbdd04bd7a98d6d7fc356a772": {
          "model_module": "@jupyter-widgets/controls",
          "model_name": "HTMLModel",
          "model_module_version": "1.5.0",
          "state": {
            "_dom_classes": [],
            "_model_module": "@jupyter-widgets/controls",
            "_model_module_version": "1.5.0",
            "_model_name": "HTMLModel",
            "_view_count": null,
            "_view_module": "@jupyter-widgets/controls",
            "_view_module_version": "1.5.0",
            "_view_name": "HTMLView",
            "description": "",
            "description_tooltip": null,
            "layout": "IPY_MODEL_2c629949f4e94e89907241fab2bc3118",
            "placeholder": "​",
            "style": "IPY_MODEL_b62b47d74ef444818fd4de5a1a98cff4",
            "value": " 100/100 [03:28&lt;00:00,  2.39s/it]"
          }
        },
        "65cce5c7c1b14b8ea06fe868b8725dfc": {
          "model_module": "@jupyter-widgets/base",
          "model_name": "LayoutModel",
          "model_module_version": "1.2.0",
          "state": {
            "_model_module": "@jupyter-widgets/base",
            "_model_module_version": "1.2.0",
            "_model_name": "LayoutModel",
            "_view_count": null,
            "_view_module": "@jupyter-widgets/base",
            "_view_module_version": "1.2.0",
            "_view_name": "LayoutView",
            "align_content": null,
            "align_items": null,
            "align_self": null,
            "border": null,
            "bottom": null,
            "display": null,
            "flex": null,
            "flex_flow": null,
            "grid_area": null,
            "grid_auto_columns": null,
            "grid_auto_flow": null,
            "grid_auto_rows": null,
            "grid_column": null,
            "grid_gap": null,
            "grid_row": null,
            "grid_template_areas": null,
            "grid_template_columns": null,
            "grid_template_rows": null,
            "height": null,
            "justify_content": null,
            "justify_items": null,
            "left": null,
            "margin": null,
            "max_height": null,
            "max_width": null,
            "min_height": null,
            "min_width": null,
            "object_fit": null,
            "object_position": null,
            "order": null,
            "overflow": null,
            "overflow_x": null,
            "overflow_y": null,
            "padding": null,
            "right": null,
            "top": null,
            "visibility": null,
            "width": null
          }
        },
        "61d2de5af8874b1a9651aff8ded9e546": {
          "model_module": "@jupyter-widgets/base",
          "model_name": "LayoutModel",
          "model_module_version": "1.2.0",
          "state": {
            "_model_module": "@jupyter-widgets/base",
            "_model_module_version": "1.2.0",
            "_model_name": "LayoutModel",
            "_view_count": null,
            "_view_module": "@jupyter-widgets/base",
            "_view_module_version": "1.2.0",
            "_view_name": "LayoutView",
            "align_content": null,
            "align_items": null,
            "align_self": null,
            "border": null,
            "bottom": null,
            "display": null,
            "flex": null,
            "flex_flow": null,
            "grid_area": null,
            "grid_auto_columns": null,
            "grid_auto_flow": null,
            "grid_auto_rows": null,
            "grid_column": null,
            "grid_gap": null,
            "grid_row": null,
            "grid_template_areas": null,
            "grid_template_columns": null,
            "grid_template_rows": null,
            "height": null,
            "justify_content": null,
            "justify_items": null,
            "left": null,
            "margin": null,
            "max_height": null,
            "max_width": null,
            "min_height": null,
            "min_width": null,
            "object_fit": null,
            "object_position": null,
            "order": null,
            "overflow": null,
            "overflow_x": null,
            "overflow_y": null,
            "padding": null,
            "right": null,
            "top": null,
            "visibility": null,
            "width": null
          }
        },
        "493c7c0a877844119f9d8778697a379b": {
          "model_module": "@jupyter-widgets/controls",
          "model_name": "DescriptionStyleModel",
          "model_module_version": "1.5.0",
          "state": {
            "_model_module": "@jupyter-widgets/controls",
            "_model_module_version": "1.5.0",
            "_model_name": "DescriptionStyleModel",
            "_view_count": null,
            "_view_module": "@jupyter-widgets/base",
            "_view_module_version": "1.2.0",
            "_view_name": "StyleView",
            "description_width": ""
          }
        },
        "66c48880012142c6ad753706dc1f95ad": {
          "model_module": "@jupyter-widgets/base",
          "model_name": "LayoutModel",
          "model_module_version": "1.2.0",
          "state": {
            "_model_module": "@jupyter-widgets/base",
            "_model_module_version": "1.2.0",
            "_model_name": "LayoutModel",
            "_view_count": null,
            "_view_module": "@jupyter-widgets/base",
            "_view_module_version": "1.2.0",
            "_view_name": "LayoutView",
            "align_content": null,
            "align_items": null,
            "align_self": null,
            "border": null,
            "bottom": null,
            "display": null,
            "flex": null,
            "flex_flow": null,
            "grid_area": null,
            "grid_auto_columns": null,
            "grid_auto_flow": null,
            "grid_auto_rows": null,
            "grid_column": null,
            "grid_gap": null,
            "grid_row": null,
            "grid_template_areas": null,
            "grid_template_columns": null,
            "grid_template_rows": null,
            "height": null,
            "justify_content": null,
            "justify_items": null,
            "left": null,
            "margin": null,
            "max_height": null,
            "max_width": null,
            "min_height": null,
            "min_width": null,
            "object_fit": null,
            "object_position": null,
            "order": null,
            "overflow": null,
            "overflow_x": null,
            "overflow_y": null,
            "padding": null,
            "right": null,
            "top": null,
            "visibility": null,
            "width": null
          }
        },
        "463e9736ff1b4cbbaaebb89499592f90": {
          "model_module": "@jupyter-widgets/controls",
          "model_name": "ProgressStyleModel",
          "model_module_version": "1.5.0",
          "state": {
            "_model_module": "@jupyter-widgets/controls",
            "_model_module_version": "1.5.0",
            "_model_name": "ProgressStyleModel",
            "_view_count": null,
            "_view_module": "@jupyter-widgets/base",
            "_view_module_version": "1.2.0",
            "_view_name": "StyleView",
            "bar_color": null,
            "description_width": ""
          }
        },
        "2c629949f4e94e89907241fab2bc3118": {
          "model_module": "@jupyter-widgets/base",
          "model_name": "LayoutModel",
          "model_module_version": "1.2.0",
          "state": {
            "_model_module": "@jupyter-widgets/base",
            "_model_module_version": "1.2.0",
            "_model_name": "LayoutModel",
            "_view_count": null,
            "_view_module": "@jupyter-widgets/base",
            "_view_module_version": "1.2.0",
            "_view_name": "LayoutView",
            "align_content": null,
            "align_items": null,
            "align_self": null,
            "border": null,
            "bottom": null,
            "display": null,
            "flex": null,
            "flex_flow": null,
            "grid_area": null,
            "grid_auto_columns": null,
            "grid_auto_flow": null,
            "grid_auto_rows": null,
            "grid_column": null,
            "grid_gap": null,
            "grid_row": null,
            "grid_template_areas": null,
            "grid_template_columns": null,
            "grid_template_rows": null,
            "height": null,
            "justify_content": null,
            "justify_items": null,
            "left": null,
            "margin": null,
            "max_height": null,
            "max_width": null,
            "min_height": null,
            "min_width": null,
            "object_fit": null,
            "object_position": null,
            "order": null,
            "overflow": null,
            "overflow_x": null,
            "overflow_y": null,
            "padding": null,
            "right": null,
            "top": null,
            "visibility": null,
            "width": null
          }
        },
        "b62b47d74ef444818fd4de5a1a98cff4": {
          "model_module": "@jupyter-widgets/controls",
          "model_name": "DescriptionStyleModel",
          "model_module_version": "1.5.0",
          "state": {
            "_model_module": "@jupyter-widgets/controls",
            "_model_module_version": "1.5.0",
            "_model_name": "DescriptionStyleModel",
            "_view_count": null,
            "_view_module": "@jupyter-widgets/base",
            "_view_module_version": "1.2.0",
            "_view_name": "StyleView",
            "description_width": ""
          }
        }
      }
    }
  },
  "cells": [
    {
      "cell_type": "code",
      "source": [
        "# inspiration from https://github.com/Gayatri-Priyadarsini/Membership-inference-attack"
      ],
      "metadata": {
        "id": "16bxgeuQtIXx"
      },
      "execution_count": null,
      "outputs": []
    },
    {
      "cell_type": "code",
      "execution_count": 1,
      "metadata": {
        "id": "i8dxVNqSS-1X"
      },
      "outputs": [],
      "source": [
        "import matplotlib.pyplot as plt\n",
        "import torch\n",
        "import torchvision.transforms as transforms\n",
        "from torchvision.datasets import EMNIST, MNIST\n",
        "from tqdm.notebook import tqdm, trange\n",
        "import torch.nn as nn\n",
        "import matplotlib.pyplot as plt\n",
        "from torch.autograd import Variable\n",
        "import numpy as np"
      ]
    },
    {
      "cell_type": "code",
      "source": [
        "%matplotlib inline"
      ],
      "metadata": {
        "id": "qShti_KCTHjD"
      },
      "execution_count": 2,
      "outputs": []
    },
    {
      "cell_type": "code",
      "source": [
        "def classification_accuracy(net_output, labels):\n",
        "    outputs = net_output.detach().cpu().numpy()\n",
        "    outputs = [np.argmax(i) for i in outputs]\n",
        "\n",
        "    labels = labels.detach().cpu().numpy()\n",
        "\n",
        "    sum = 0\n",
        "    for a, b in zip(outputs, labels):\n",
        "        if a == b: sum += 1\n",
        "\n",
        "    return sum/len(labels)"
      ],
      "metadata": {
        "id": "tBBMv3rclyjp"
      },
      "execution_count": 73,
      "outputs": []
    },
    {
      "cell_type": "code",
      "source": [
        "def binary_accuracy(net_output, labels):\n",
        "    outputs = net_output.detach().cpu().numpy()\n",
        "    outputs = np.round(outputs)\n",
        "\n",
        "    labels = labels.detach().cpu().numpy()\n",
        "\n",
        "    sum = 0\n",
        "    for a, b in zip(outputs, labels):\n",
        "        if a == b: sum += 1\n",
        "\n",
        "    return sum/len(labels)"
      ],
      "metadata": {
        "id": "dYOE1kglnmic"
      },
      "execution_count": 83,
      "outputs": []
    },
    {
      "cell_type": "markdown",
      "source": [
        "# Main classifier"
      ],
      "metadata": {
        "id": "WG9QQMQ9T2PT"
      }
    },
    {
      "cell_type": "code",
      "source": [
        "# ==============================================================================\n",
        "\n",
        "# Setting the number of training samples\n",
        "MNIST_TRAIN_LIMIT=20000\n",
        "TRAIN_BATCH_SIZE=256\n",
        "TEST_BATCH_SIZE=128\n",
        "\n",
        "# ==============================================================================\n",
        "\n",
        "mnist_transform = transforms.Compose(\n",
        "    [transforms.ToTensor(), transforms.Normalize((0.1307,), (0.3081,)),]\n",
        ")\n",
        "\n",
        "# Target model training data\n",
        "train_data = MNIST(\"mnist\", train=True, download=True, transform=mnist_transform)\n",
        "\n",
        "# We don't need to use all the training data for MNIST as it's a simple dataset\n",
        "train_data.data = train_data.data[:MNIST_TRAIN_LIMIT]\n",
        "train_data.targets = train_data.targets[:MNIST_TRAIN_LIMIT]\n",
        "\n",
        "# Target model test data\n",
        "test_data = MNIST(\"mnist\", train=False, download=True, transform=mnist_transform)\n",
        "\n",
        "# Create data loaders\n",
        "train_loader = torch.utils.data.DataLoader(train_data, batch_size=TRAIN_BATCH_SIZE)\n",
        "test_loader = torch.utils.data.DataLoader(test_data, batch_size=TEST_BATCH_SIZE)"
      ],
      "metadata": {
        "id": "7LEgsqeQTIeh"
      },
      "execution_count": 3,
      "outputs": []
    },
    {
      "cell_type": "code",
      "source": [
        "class Classifier(torch.nn.Module):\n",
        "    def __init__(self) -> None:\n",
        "        super().__init__()\n",
        "\n",
        "        self.stage1 = torch.nn.Sequential(\n",
        "                torch.nn.Conv2d(1, 32, kernel_size=5, padding=0, stride=1),  # first Conv layer\n",
        "                torch.nn.ReLU(),\n",
        "                torch.nn.MaxPool2d(kernel_size=2),\n",
        "                torch.nn.Conv2d(32, 32, kernel_size=5, padding=0, stride=1),  # second Conv layer\n",
        "                torch.nn.ReLU(),\n",
        "                torch.nn.MaxPool2d(kernel_size=2),\n",
        "        )\n",
        "        \n",
        "        self.stage2 = torch.nn.Sequential(\n",
        "                torch.nn.Linear(512, 256),\n",
        "                torch.nn.ReLU(),\n",
        "                torch.nn.Linear(256, 10),  # 10-class output\n",
        "                torch.nn.Softmax(dim=-1),\n",
        "        )\n",
        "\n",
        "\n",
        "    def forward(self, x):\n",
        "        out = self.stage1(x)\n",
        "        out = out.view(out.size(0), -1)\n",
        "        out = self.stage2(out)\n",
        "\n",
        "        return out"
      ],
      "metadata": {
        "id": "KTnj1-VxTR-8"
      },
      "execution_count": 4,
      "outputs": []
    },
    {
      "cell_type": "code",
      "source": [
        "target_model = Classifier()"
      ],
      "metadata": {
        "id": "VZSe1hgyUI7Y"
      },
      "execution_count": 77,
      "outputs": []
    },
    {
      "cell_type": "code",
      "source": [
        "optim = torch.optim.Adam(target_model.parameters(), lr=1e-4)\n",
        "loss_criterion = torch.nn.CrossEntropyLoss()\n",
        "for epoch in trange(10):\n",
        "    train_correct = 0\n",
        "    train_loss = 0.\n",
        "\n",
        "    # Training loop\n",
        "    for data, targets in train_loader:\n",
        "        optim.zero_grad()\n",
        "        output = target_model(data)\n",
        "\n",
        "        # Update network\n",
        "        loss = loss_criterion(output, targets)\n",
        "        loss.backward()\n",
        "        optim.step()\n",
        "\n",
        "    print(epoch, ':', classification_accuracy(output, targets))"
      ],
      "metadata": {
        "colab": {
          "base_uri": "https://localhost:8080/",
          "height": 219,
          "referenced_widgets": [
            "4d51a56c69c64affa934866a33dd3bb5",
            "f124fc1698744e5f80bf522a7d7c1e00",
            "03a5025088374e3f88e9969ee488af15",
            "2be2b76cde7448c089137e19a2bab15f",
            "767b53fb06174c1ead9888b920a2f62b",
            "7c7865d0fc114c83bbf8688c5be66138",
            "eff0e4baac284730a3f87096e3a82501",
            "7e651f66320443998bf35f10b3cdfa67",
            "6660acb226574886b15dc2f261e70c36",
            "83948da7d8b34c9a91a1edf7cf0b43b8",
            "dd50976140234539bfe5adfdf881553d"
          ]
        },
        "id": "fAPjShy4ULNh",
        "outputId": "fa88af5d-0159-4457-ee1f-9698a2f9c4bd"
      },
      "execution_count": 78,
      "outputs": [
        {
          "output_type": "display_data",
          "data": {
            "text/plain": [
              "  0%|          | 0/10 [00:00<?, ?it/s]"
            ],
            "application/vnd.jupyter.widget-view+json": {
              "version_major": 2,
              "version_minor": 0,
              "model_id": "4d51a56c69c64affa934866a33dd3bb5"
            }
          },
          "metadata": {}
        },
        {
          "output_type": "stream",
          "name": "stdout",
          "text": [
            "0 : 0.71875\n",
            "1 : 0.90625\n",
            "2 : 0.9375\n",
            "3 : 1.0\n",
            "4 : 1.0\n",
            "5 : 1.0\n",
            "6 : 1.0\n",
            "7 : 1.0\n",
            "8 : 1.0\n",
            "9 : 1.0\n"
          ]
        }
      ]
    },
    {
      "cell_type": "markdown",
      "source": [
        "# Shadow model"
      ],
      "metadata": {
        "id": "3vgkAZzUWMmY"
      }
    },
    {
      "cell_type": "code",
      "source": [
        "# ==============================================================================\n",
        "\n",
        "# Setting the number of training samples\n",
        "EMNIST_TRAIN_LIMIT=10000\n",
        "TRAIN_BATCH_SIZE=128\n",
        "TEST_BATCH_SIZE=128\n",
        "\n",
        "# ==============================================================================\n",
        "\n",
        "emnist_transform = transforms.Compose(\n",
        "    [transforms.ToTensor(), transforms.Normalize((0.1307,), (0.3081,)),]\n",
        ")\n",
        "\n",
        "\n",
        "# train data\n",
        "shadow_train = EMNIST(\"emnist\", \"digits\", download=True, train=True, transform=emnist_transform)  # <- digits !\n",
        "\n",
        "shadow_train.data = shadow_train.data[:EMNIST_TRAIN_LIMIT]\n",
        "shadow_train.targets = shadow_train.targets[:EMNIST_TRAIN_LIMIT]\n",
        "\n",
        "shadow_train_loader = torch.utils.data.DataLoader(shadow_train, batch_size=TRAIN_BATCH_SIZE)\n",
        "\n",
        "# test data\n",
        "shadow_test = EMNIST(\"emnist\", \"letters\", download=True, train=False, transform=emnist_transform) # <- letters !\n",
        "\n",
        "shadow_test.data = shadow_test.data[:EMNIST_TRAIN_LIMIT]\n",
        "shadow_test.targets = shadow_test.targets[:EMNIST_TRAIN_LIMIT]\n",
        "\n",
        "shadow_test_loader = torch.utils.data.DataLoader(shadow_test, batch_size=TEST_BATCH_SIZE)"
      ],
      "metadata": {
        "id": "_-DaMgQaWNpo"
      },
      "execution_count": 96,
      "outputs": []
    },
    {
      "cell_type": "code",
      "source": [
        "class ShadowModel(torch.nn.Module):\n",
        "    def __init__(self) -> None:\n",
        "        super().__init__()\n",
        "\n",
        "        self.stage1 = torch.nn.Sequential(\n",
        "                torch.nn.Conv2d(1, 32, kernel_size=5, padding=0, stride=1),  # first Conv layer\n",
        "                torch.nn.ReLU(),\n",
        "                torch.nn.MaxPool2d(kernel_size=2),\n",
        "                torch.nn.Conv2d(32, 32, kernel_size=5, padding=0, stride=1),  # second Conv layer\n",
        "                torch.nn.ReLU(),\n",
        "                torch.nn.MaxPool2d(kernel_size=2),\n",
        "        )\n",
        "        \n",
        "        self.stage2 = torch.nn.Sequential(\n",
        "                torch.nn.Linear(512, 256),\n",
        "                torch.nn.ReLU(),\n",
        "                torch.nn.Linear(256, 10),  # 10-class output\n",
        "                torch.nn.Softmax(dim=-1),\n",
        "        )\n",
        "\n",
        "\n",
        "    def forward(self, x):\n",
        "        out = self.stage1(x)\n",
        "        out = out.view(out.size(0), -1)\n",
        "        out = self.stage2(out)\n",
        "\n",
        "        return out"
      ],
      "metadata": {
        "id": "KUloZjwrW8r-"
      },
      "execution_count": 97,
      "outputs": []
    },
    {
      "cell_type": "code",
      "source": [
        "shadow_model = ShadowModel()"
      ],
      "metadata": {
        "id": "AgRpsFz1XQ1X"
      },
      "execution_count": 98,
      "outputs": []
    },
    {
      "cell_type": "code",
      "source": [
        "shadow_optim = torch.optim.Adam(shadow_model.parameters(), lr=1e-4)\n",
        "loss_criterion = torch.nn.CrossEntropyLoss()\n",
        "\n",
        "for epoch in trange(10):\n",
        "    \n",
        "    # Training loop\n",
        "    for data, targets in shadow_train_loader:\n",
        "        shadow_optim.zero_grad()\n",
        "        output = shadow_model(data)\n",
        "\n",
        "        loss = loss_criterion(output, targets)\n",
        "        loss.backward()\n",
        "        shadow_optim.step()\n",
        "\n",
        "    print(epoch, ':', classification_accuracy(output, targets))"
      ],
      "metadata": {
        "colab": {
          "base_uri": "https://localhost:8080/",
          "height": 219,
          "referenced_widgets": [
            "67c52073e1184767b9ec1526f56f476b",
            "91d1872ae24c49b8a5da557a008e5856",
            "91d699b893a8403e80d336ce7857325d",
            "f61d5e8bca5341ae9ae5dbc0a2d92d16",
            "83c42af0ce374ec9aaa02b53bee7a9cf",
            "20eff48b33b24656976d421776c7bdde",
            "d4adf8c9e05c495883b648b910743c38",
            "1fcde52fb14b462ba7f4c5614cc5d501",
            "1a4cdcdca72a40e1b88e237dc74b9be2",
            "4321c03f6e7c485586f918c15eaa40a0",
            "eaf9cfa614ba4d7abfd6ffbdc67a4e9d"
          ]
        },
        "id": "-tDy7q_mXToN",
        "outputId": "51f504ef-834b-4646-8caa-6f0921ceae4b"
      },
      "execution_count": 99,
      "outputs": [
        {
          "output_type": "display_data",
          "data": {
            "text/plain": [
              "  0%|          | 0/10 [00:00<?, ?it/s]"
            ],
            "application/vnd.jupyter.widget-view+json": {
              "version_major": 2,
              "version_minor": 0,
              "model_id": "67c52073e1184767b9ec1526f56f476b"
            }
          },
          "metadata": {}
        },
        {
          "output_type": "stream",
          "name": "stdout",
          "text": [
            "0 : 0.875\n",
            "1 : 0.9375\n",
            "2 : 0.9375\n",
            "3 : 0.9375\n",
            "4 : 1.0\n",
            "5 : 1.0\n",
            "6 : 1.0\n",
            "7 : 1.0\n",
            "8 : 1.0\n",
            "9 : 1.0\n"
          ]
        }
      ]
    },
    {
      "cell_type": "code",
      "source": [
        "# get shadow model outputs for training and testing data\n",
        "\n",
        "shadow_outputs = []\n",
        "testing_outputs = []\n",
        "\n",
        "shadow_model.eval() \n",
        "\n",
        "for data, _ in shadow_train_loader:\n",
        "    shadow_outputs.append(shadow_model(data))\n",
        "\n",
        "for data, _ in shadow_test_loader:\n",
        "    shadow_outputs.append(shadow_model(data))"
      ],
      "metadata": {
        "id": "8ncqW0vvXnAY"
      },
      "execution_count": 100,
      "outputs": []
    },
    {
      "cell_type": "code",
      "source": [
        "shadow_outputs = torch.FloatTensor([d.detach().numpy() for d in shadow_outputs if d.shape == (128,10)])\n",
        "shadow_outputs = shadow_outputs.view(shadow_outputs.shape[0]*shadow_outputs.shape[1],10)"
      ],
      "metadata": {
        "id": "79Ce-bKXY3g0"
      },
      "execution_count": 101,
      "outputs": []
    },
    {
      "cell_type": "code",
      "source": [
        "Y1 = torch.ones([shadow_outputs.shape[0]//2,1])\n",
        "Y2 = torch.zeros([shadow_outputs.shape[0]//2,1])\n",
        "\n",
        "shadow_labels = torch.cat([Y1,Y2]).view(shadow_outputs.shape[0],1)"
      ],
      "metadata": {
        "id": "S0sVnVUvaXUx"
      },
      "execution_count": 102,
      "outputs": []
    },
    {
      "cell_type": "markdown",
      "source": [
        "# Attack model"
      ],
      "metadata": {
        "id": "jj3AuseZeI4i"
      }
    },
    {
      "cell_type": "code",
      "source": [
        "class ShadowDataset(torch.utils.data.Dataset):\n",
        "    def __init__(self, data, labels):\n",
        "        self.data = data\n",
        "        self.labels = labels\n",
        "    \n",
        "    def __len__(self):\n",
        "            return len(self.labels)\n",
        "    \n",
        "    def __getitem__(self, idx):\n",
        "            data = self.data[idx]\n",
        "            label = self.labels[idx]\n",
        "            \n",
        "            return data, label"
      ],
      "metadata": {
        "id": "Ad_izUiQfwJd"
      },
      "execution_count": 103,
      "outputs": []
    },
    {
      "cell_type": "code",
      "source": [
        "shadow_data = ShadowDataset(shadow_outputs, shadow_labels)\n",
        "\n",
        "attack_train_loader = torch.utils.data.DataLoader(shadow_data, batch_size=16, shuffle=True)"
      ],
      "metadata": {
        "id": "QGCgii5JeDSz"
      },
      "execution_count": 104,
      "outputs": []
    },
    {
      "cell_type": "code",
      "source": [
        "class AttackNet(nn.Module):\n",
        "\n",
        "    def __init__(self):\n",
        "        super().__init__()\n",
        "        self.fc1 = nn.Linear(10,1000)\n",
        "        self.relu1 = nn.ReLU()\n",
        "        self.fc2 = nn.Linear(1000, 50)\n",
        "        self.relu2 = nn.ReLU()\n",
        "        self.out = nn.Linear(50,1)\n",
        "        self.out_act = nn.Sigmoid()\n",
        "        \n",
        "    def forward(self, input_):\n",
        "        a1 = self.fc1(input_)\n",
        "        h1 = self.relu1(a1)\n",
        "        a2 = self.fc2(h1)\n",
        "        h2 = self.relu2(a2)\n",
        "        a3 = self.out(h2)\n",
        "        y = self.out_act(a3)\n",
        "        return y"
      ],
      "metadata": {
        "id": "gAtlmNnReeiB"
      },
      "execution_count": 117,
      "outputs": []
    },
    {
      "cell_type": "code",
      "source": [
        "attack_model = AttackNet()"
      ],
      "metadata": {
        "id": "mLWTV2Uaest4"
      },
      "execution_count": 124,
      "outputs": []
    },
    {
      "cell_type": "code",
      "source": [
        "opt = torch.optim.Adam(attack_model.parameters(), lr=1e-4, betas=(0.9, 0.999))\n",
        "criterion = nn.BCELoss()"
      ],
      "metadata": {
        "id": "Up8mk2yZevS7"
      },
      "execution_count": 125,
      "outputs": []
    },
    {
      "cell_type": "code",
      "source": [
        "attack_model.train()\n",
        "\n",
        "for epoch in trange(100):\n",
        "\n",
        "    a = 0\n",
        "    c = 0\n",
        "\n",
        "    # Training loop\n",
        "    for data, targets in attack_train_loader:\n",
        "        opt.zero_grad()\n",
        "        output = attack_model(data)\n",
        "\n",
        "        loss = criterion(output, targets)\n",
        "\n",
        "        loss.backward()\n",
        "        opt.step()\n",
        "\n",
        "        a += binary_accuracy(output, targets)\n",
        "        c += 1\n",
        "\n",
        "    if epoch % 5 == 0: print(epoch, ':', a/c)"
      ],
      "metadata": {
        "colab": {
          "base_uri": "https://localhost:8080/",
          "height": 389,
          "referenced_widgets": [
            "105d9011a933438bbc5333213a91c1c0",
            "908f5a045f09418d88dfa29bbc767561",
            "bc5eb1d7136e492ab083433d698d29c3",
            "042c2f8bbdd04bd7a98d6d7fc356a772",
            "65cce5c7c1b14b8ea06fe868b8725dfc",
            "61d2de5af8874b1a9651aff8ded9e546",
            "493c7c0a877844119f9d8778697a379b",
            "66c48880012142c6ad753706dc1f95ad",
            "463e9736ff1b4cbbaaebb89499592f90",
            "2c629949f4e94e89907241fab2bc3118",
            "b62b47d74ef444818fd4de5a1a98cff4"
          ]
        },
        "id": "yPqC6TkkewY9",
        "outputId": "fd33169d-a104-4729-bab9-6d9d6a333e40"
      },
      "execution_count": 126,
      "outputs": [
        {
          "output_type": "display_data",
          "data": {
            "text/plain": [
              "  0%|          | 0/100 [00:00<?, ?it/s]"
            ],
            "application/vnd.jupyter.widget-view+json": {
              "version_major": 2,
              "version_minor": 0,
              "model_id": "105d9011a933438bbc5333213a91c1c0"
            }
          },
          "metadata": {}
        },
        {
          "output_type": "stream",
          "name": "stdout",
          "text": [
            "0 : 0.6576522435897436\n",
            "5 : 0.7278145032051282\n",
            "10 : 0.7411858974358975\n",
            "15 : 0.7475961538461539\n",
            "20 : 0.7585637019230769\n",
            "25 : 0.7608673878205128\n",
            "30 : 0.7639723557692307\n",
            "35 : 0.7713341346153846\n",
            "40 : 0.7734875801282052\n",
            "45 : 0.7733373397435898\n",
            "50 : 0.7748898237179487\n",
            "55 : 0.7787459935897436\n",
            "60 : 0.7806490384615384\n",
            "65 : 0.7795472756410257\n",
            "70 : 0.7834034455128205\n",
            "75 : 0.7836538461538461\n",
            "80 : 0.7837540064102564\n",
            "85 : 0.7860076121794872\n",
            "90 : 0.7867087339743589\n",
            "95 : 0.7885116185897436\n"
          ]
        }
      ]
    },
    {
      "cell_type": "code",
      "source": [
        "data, _ = next(iter(train_loader))\n",
        "\n",
        "attack_prob = attack_model(target_model(data))\n",
        "true_labels = torch.ones(attack_prob.shape)\n",
        "\n",
        "print('Accuracy on included data:', binary_accuracy(attack_prob, true_labels))"
      ],
      "metadata": {
        "colab": {
          "base_uri": "https://localhost:8080/"
        },
        "id": "zxStKMcCfAf1",
        "outputId": "4ed60847-7c57-4fa1-93b2-8602f19d515c"
      },
      "execution_count": 135,
      "outputs": [
        {
          "output_type": "stream",
          "name": "stdout",
          "text": [
            "Accuracy on included data: 0.8046875\n"
          ]
        }
      ]
    },
    {
      "cell_type": "code",
      "source": [
        "data, _ = next(iter(test_loader))\n",
        "\n",
        "attack_prob = attack_model(target_model(data))\n",
        "true_labels = torch.ones(attack_prob.shape)\n",
        "\n",
        "print('Accuracy on non-included data:', binary_accuracy(attack_prob, true_labels))"
      ],
      "metadata": {
        "colab": {
          "base_uri": "https://localhost:8080/"
        },
        "id": "Hv8SuJ0vsAPo",
        "outputId": "534705e5-f262-46b3-ab35-a5a260a368ea"
      },
      "execution_count": 136,
      "outputs": [
        {
          "output_type": "stream",
          "name": "stdout",
          "text": [
            "Accuracy on non-included data: 0.765625\n"
          ]
        }
      ]
    },
    {
      "cell_type": "code",
      "source": [
        ""
      ],
      "metadata": {
        "id": "-c2PVJgIs8Be"
      },
      "execution_count": null,
      "outputs": []
    }
  ]
}