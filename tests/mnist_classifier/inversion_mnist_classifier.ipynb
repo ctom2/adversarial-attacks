{
 "cells": [
  {
   "cell_type": "code",
   "execution_count": 1,
   "id": "0fe7bb9e-ebb1-4467-842d-1fb89a3659fe",
   "metadata": {},
   "outputs": [],
   "source": [
    "import torch\n",
    "import torch.nn as nn\n",
    "import torch.nn.functional as F\n",
    "import torch.optim as optim\n",
    "from torchvision import datasets, transforms\n",
    "from torch.optim.lr_scheduler import StepLR\n",
    "import matplotlib.pyplot as plt"
   ]
  },
  {
   "cell_type": "code",
   "execution_count": 2,
   "id": "ef13faad-42c8-4747-8b3d-1f5b392e0ea6",
   "metadata": {},
   "outputs": [],
   "source": [
    "class Flatten(torch.nn.Module):\n",
    "    def forward(self, x):\n",
    "        batch_size = x.shape[0]\n",
    "        return x.view(batch_size, -1)"
   ]
  },
  {
   "cell_type": "code",
   "execution_count": 24,
   "id": "b83d99a1-582b-480b-9aaf-e28574b0ebdd",
   "metadata": {},
   "outputs": [],
   "source": [
    "class ClassifierNN(nn.Module):\n",
    "    def __init__(self):\n",
    "        super(ClassifierNN, self).__init__()\n",
    "        self.first_part = nn.Sequential(\n",
    "            nn.Conv2d(in_channels=1, out_channels=6, kernel_size=3, stride=1, padding=1),\n",
    "            nn.LeakyReLU(),\n",
    "            nn.Conv2d(in_channels=6, out_channels=12, kernel_size=3, stride=2, padding=1),\n",
    "            nn.LeakyReLU(),\n",
    "            nn.Conv2d(in_channels=12, out_channels=12, kernel_size=3, stride=2, padding=1),\n",
    "            nn.LeakyReLU(),\n",
    "        )\n",
    "        \n",
    "        self.second_part = nn.Sequential(\n",
    "            Flatten(),\n",
    "            nn.Linear(588, 500),\n",
    "            nn.LeakyReLU(),\n",
    "            nn.Linear(500, 10),\n",
    "            nn.Softmax(dim=-1),\n",
    "        )\n",
    "        \n",
    "    def forward(self, x):\n",
    "        f = self.first_part(x)\n",
    "        return self.second_part(f)"
   ]
  },
  {
   "cell_type": "code",
   "execution_count": 25,
   "id": "4cb0245f-4e23-44b4-8f59-7be73e86b734",
   "metadata": {},
   "outputs": [],
   "source": [
    "transform = transforms.Compose([\n",
    "                transforms.ToTensor(),\n",
    "                transforms.Normalize((0.1307,), (0.3081,))\n",
    "            ])\n",
    "\n",
    "dataset1 = datasets.MNIST('./data', train=True, download=True, transform=transform)\n",
    "dataset2 = datasets.MNIST('./data', train=False, download=True, transform=transform)"
   ]
  },
  {
   "cell_type": "code",
   "execution_count": 26,
   "id": "dde001ca-2646-4d63-b0df-96ef103ce01f",
   "metadata": {},
   "outputs": [],
   "source": [
    "train_loader = torch.utils.data.DataLoader(dataset1, batch_size=32)"
   ]
  },
  {
   "cell_type": "code",
   "execution_count": 27,
   "id": "77fa2f5b-9f15-4710-8318-ea03f7274417",
   "metadata": {},
   "outputs": [],
   "source": [
    "model = ClassifierNN().cuda()\n",
    "optimizer = optim.Adam(model.parameters(), lr=1e-3)\n",
    "scheduler = StepLR(optimizer, step_size=1, gamma=0.7)\n",
    "criterion = nn.NLLLoss()"
   ]
  },
  {
   "cell_type": "code",
   "execution_count": 28,
   "id": "9e7ce582-d883-4877-8c9b-d574ff673f5f",
   "metadata": {},
   "outputs": [
    {
     "name": "stdout",
     "output_type": "stream",
     "text": [
      "Train Epoch: 0 [0/60000 (0%)]\tLoss: -0.100209\n",
      "Train Epoch: 0 [8000/60000 (13%)]\tLoss: -0.667313\n",
      "Train Epoch: 0 [16000/60000 (27%)]\tLoss: -0.815450\n",
      "Train Epoch: 0 [24000/60000 (40%)]\tLoss: -0.847382\n",
      "Train Epoch: 0 [32000/60000 (53%)]\tLoss: -0.858953\n",
      "Train Epoch: 0 [40000/60000 (67%)]\tLoss: -0.927778\n",
      "Train Epoch: 0 [48000/60000 (80%)]\tLoss: -0.968807\n",
      "Train Epoch: 0 [56000/60000 (93%)]\tLoss: -0.946956\n",
      "Train Epoch: 1 [0/60000 (0%)]\tLoss: -0.944573\n",
      "Train Epoch: 1 [8000/60000 (13%)]\tLoss: -0.949281\n",
      "Train Epoch: 1 [16000/60000 (27%)]\tLoss: -0.915305\n",
      "Train Epoch: 1 [24000/60000 (40%)]\tLoss: -0.999998\n",
      "Train Epoch: 1 [32000/60000 (53%)]\tLoss: -0.972741\n",
      "Train Epoch: 1 [40000/60000 (67%)]\tLoss: -0.942857\n",
      "Train Epoch: 1 [48000/60000 (80%)]\tLoss: -0.948073\n",
      "Train Epoch: 1 [56000/60000 (93%)]\tLoss: -0.937503\n",
      "Train Epoch: 2 [0/60000 (0%)]\tLoss: -0.999994\n",
      "Train Epoch: 2 [8000/60000 (13%)]\tLoss: -0.968903\n",
      "Train Epoch: 2 [16000/60000 (27%)]\tLoss: -0.945127\n",
      "Train Epoch: 2 [24000/60000 (40%)]\tLoss: -1.000000\n",
      "Train Epoch: 2 [32000/60000 (53%)]\tLoss: -0.966606\n",
      "Train Epoch: 2 [40000/60000 (67%)]\tLoss: -0.966869\n",
      "Train Epoch: 2 [48000/60000 (80%)]\tLoss: -0.964658\n",
      "Train Epoch: 2 [56000/60000 (93%)]\tLoss: -0.965780\n"
     ]
    }
   ],
   "source": [
    "model.train()\n",
    "\n",
    "for epoch in range(3):\n",
    "    for batch_idx, (data, target) in enumerate(train_loader):\n",
    "        data, target = data.cuda(), target.cuda()\n",
    "        optimizer.zero_grad()\n",
    "        output = model(data)\n",
    "        loss = criterion(output, target)\n",
    "        loss.backward()\n",
    "        optimizer.step()\n",
    "\n",
    "        if batch_idx % 250 == 0:\n",
    "            print('Train Epoch: {} [{}/{} ({:.0f}%)]\\tLoss: {:.6f}'.format(\n",
    "                epoch, batch_idx * len(data), len(train_loader.dataset),\n",
    "                100. * batch_idx / len(train_loader), loss.item()))\n",
    "\n",
    "    scheduler.step()"
   ]
  },
  {
   "cell_type": "markdown",
   "id": "a6239ea1-5170-4e90-a250-b2c2b8fc2764",
   "metadata": {},
   "source": [
    "----"
   ]
  },
  {
   "cell_type": "code",
   "execution_count": 62,
   "id": "3d560ccb-08dc-4959-8078-38ad4814af6c",
   "metadata": {},
   "outputs": [],
   "source": [
    "class AttackerNN(nn.Module):\n",
    "    def __init__(self):\n",
    "        super(AttackerNN, self).__init__()\n",
    "        self.layers = nn.Sequential(\n",
    "                            nn.ConvTranspose2d(in_channels=12, out_channels=12, kernel_size=3, stride=2, padding=0),\n",
    "                            nn.LeakyReLU(),\n",
    "                            nn.ConvTranspose2d(in_channels=12, out_channels=6, kernel_size=3, stride=2, padding=2),\n",
    "                            nn.LeakyReLU(),\n",
    "                            nn.ConvTranspose2d(in_channels=6, out_channels=1, kernel_size=4, stride=1, padding=1),\n",
    "                            nn.LeakyReLU(),\n",
    "                         )\n",
    "        \n",
    "    def forward(self, x):\n",
    "        return self.layers(x)"
   ]
  },
  {
   "cell_type": "code",
   "execution_count": 63,
   "id": "51907539-6c05-4e9a-8746-9929a681d1a8",
   "metadata": {},
   "outputs": [],
   "source": [
    "test_loader = torch.utils.data.DataLoader(dataset2, batch_size=16)"
   ]
  },
  {
   "cell_type": "code",
   "execution_count": 64,
   "id": "56f67d28-21a4-497d-ab0a-fca38b13cf01",
   "metadata": {},
   "outputs": [
    {
     "name": "stdout",
     "output_type": "stream",
     "text": [
      "Attacker train epoch: 0\tLoss: 0.229161\n",
      "Attacker train epoch: 1\tLoss: 0.159094\n",
      "Attacker train epoch: 2\tLoss: 0.092164\n",
      "Attacker train epoch: 3\tLoss: 0.087424\n",
      "Attacker train epoch: 4\tLoss: 0.085787\n",
      "Attacker train epoch: 5\tLoss: 0.083584\n",
      "Attacker train epoch: 6\tLoss: 0.079702\n",
      "Attacker train epoch: 7\tLoss: 0.075861\n",
      "Attacker train epoch: 8\tLoss: 0.074961\n",
      "Attacker train epoch: 9\tLoss: 0.073539\n"
     ]
    }
   ],
   "source": [
    "attacker_model = AttackerNN().cuda()\n",
    "optimiser = optim.Adam(attacker_model.parameters(), lr=1e-3)\n",
    "\n",
    "for epoch in range(10):\n",
    "    for batch_idx, (data, target) in enumerate(test_loader):\n",
    "        data, target = data.cuda(), target.cuda()\n",
    "\n",
    "        optimiser.zero_grad()\n",
    "\n",
    "        target_outputs = model.first_part(data)\n",
    "\n",
    "        attack_outputs = attacker_model(target_outputs)\n",
    "\n",
    "        loss = ((data - attack_outputs)**2).mean()\n",
    "\n",
    "        loss.backward()\n",
    "        optimiser.step()\n",
    "\n",
    "    if epoch % 1 == 0:\n",
    "        print('Attacker train epoch: {}\\tLoss: {:.6f}'.format(epoch, loss.item()))"
   ]
  },
  {
   "cell_type": "markdown",
   "id": "e285f171-13fd-4129-a889-bec84f31e09f",
   "metadata": {},
   "source": [
    "---"
   ]
  },
  {
   "cell_type": "code",
   "execution_count": 70,
   "id": "4c1e77a6-8db7-4b7a-83e6-6ba27a636dfa",
   "metadata": {},
   "outputs": [
    {
     "name": "stdout",
     "output_type": "stream",
     "text": [
      "tensor(3)\n"
     ]
    },
    {
     "data": {
      "image/png": "[encoded data removed]",
      "text/plain": [
       "<Figure size 432x288 with 1 Axes>"
      ]
     },
     "metadata": {
      "needs_background": "light"
     },
     "output_type": "display_data"
    },
    {
     "data": {
      "image/png": "[encoded data removed]",
      "text/plain": [
       "<Figure size 432x288 with 1 Axes>"
      ]
     },
     "metadata": {
      "needs_background": "light"
     },
     "output_type": "display_data"
    }
   ],
   "source": [
    "INDEX=7\n",
    "\n",
    "for data, _ in train_loader:\n",
    "    data = data.cuda()\n",
    "\n",
    "    print(_[INDEX])\n",
    "    \n",
    "    target_outputs = model.first_part(data)\n",
    "    attack_outputs = attacker_model(target_outputs)\n",
    "\n",
    "    im_input = data[INDEX].detach().cpu().numpy()[0]\n",
    "    im_attack = attack_outputs[INDEX].view(28,28).detach().cpu().numpy()\n",
    "    \n",
    "    plt.imshow(im_input)\n",
    "    plt.title('Input')\n",
    "    plt.show()\n",
    "    \n",
    "    plt.imshow(im_attack)\n",
    "    plt.title('Obtained by attack')\n",
    "    plt.show()\n",
    "    \n",
    "    break"
   ]
  },
  {
   "cell_type": "code",
   "execution_count": null,
   "id": "33be44a1-e3c8-4a2b-8e5d-2a3f2b333f3e",
   "metadata": {},
   "outputs": [],
   "source": []
  }
 ],
 "metadata": {
  "kernelspec": {
   "display_name": "Python 3 (ipykernel)",
   "language": "python",
   "name": "python3"
  },
  "language_info": {
   "codemirror_mode": {
    "name": "ipython",
    "version": 3
   },
   "file_extension": ".py",
   "mimetype": "text/x-python",
   "name": "python",
   "nbconvert_exporter": "python",
   "pygments_lexer": "ipython3",
   "version": "3.8.12"
  }
 },
 "nbformat": 4,
 "nbformat_minor": 5
}
